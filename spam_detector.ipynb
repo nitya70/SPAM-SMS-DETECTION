{
 "cells": [
  {
   "cell_type": "markdown",
   "metadata": {},
   "source": [
    "<h1>SMS SPAM DETECTION MODEL</h1>\n",
    "\n",
    "<p>In this project we are trying to make a model to classify a message as spam or ham</p>\n",
    "<p>In that model we will train and test data using different machine learning algorithms and find out which algorithm works best in this dataset</p>"
   ]
  },
  {
   "cell_type": "code",
   "execution_count": 2,
   "metadata": {
    "collapsed": false
   },
   "outputs": [
    {
     "ename": "ModuleNotFoundError",
     "evalue": "No module named 'pandas'",
     "output_type": "error",
     "traceback": [
      "\u001b[1;31m---------------------------------------------------------------------------\u001b[0m",
      "\u001b[1;31mModuleNotFoundError\u001b[0m                       Traceback (most recent call last)",
      "Cell \u001b[1;32mIn[2], line 3\u001b[0m\n\u001b[0;32m      1\u001b[0m \u001b[38;5;66;03m##Importing all the required libraries\u001b[39;00m\n\u001b[0;32m      2\u001b[0m \u001b[38;5;66;03m#%pip install ipykernel\u001b[39;00m\n\u001b[1;32m----> 3\u001b[0m \u001b[38;5;28;01mimport\u001b[39;00m \u001b[38;5;21;01mpandas\u001b[39;00m \u001b[38;5;28;01mas\u001b[39;00m \u001b[38;5;21;01mpd\u001b[39;00m\n\u001b[0;32m      4\u001b[0m \u001b[38;5;28;01mimport\u001b[39;00m \u001b[38;5;21;01mnumpy\u001b[39;00m \u001b[38;5;28;01mas\u001b[39;00m \u001b[38;5;21;01mnp\u001b[39;00m\n\u001b[0;32m      5\u001b[0m \u001b[38;5;28;01mimport\u001b[39;00m \u001b[38;5;21;01mmatplotlib\u001b[39;00m\u001b[38;5;21;01m.\u001b[39;00m\u001b[38;5;21;01mpyplot\u001b[39;00m \u001b[38;5;28;01mas\u001b[39;00m \u001b[38;5;21;01mplt\u001b[39;00m\n",
      "\u001b[1;31mModuleNotFoundError\u001b[0m: No module named 'pandas'"
     ]
    }
   ],
   "source": [
    "##Importing all the required libraries\n",
    "#%pip install ipykernel\n",
    "import pandas as pd\n",
    "import numpy as np\n",
    "import matplotlib.pyplot as plt\n",
    "from sklearn.naive_bayes import MultinomialNB,GaussianNB\n",
    "from sklearn.svm import SVC\n",
    "from sklearn.linear_model import LogisticRegression\n",
    "from sklearn.ensemble import RandomForestClassifier\n",
    "from sklearn.ensemble import AdaBoostClassifier\n",
    "import seaborn as sns\n",
    "\n",
    "from sklearn.feature_extraction.text import CountVectorizer\n",
    "from sklearn.model_selection import train_test_split\n",
    "\n",
    "from sklearn.metrics import accuracy_score"
   ]
  },
  {
   "cell_type": "code",
   "execution_count": null,
   "metadata": {
    "collapsed": false
   },
   "outputs": [
    {
     "ename": "",
     "evalue": "",
     "output_type": "error",
     "traceback": [
      "\u001b[1;31mRunning cells with 'anaconda3 (Python 3.9.13)' requires the ipykernel package.\n",
      "\u001b[1;31mRun the following command to install 'ipykernel' into the Python environment. \n",
      "\u001b[1;31mCommand: 'conda install -p c:\\Users\\ALL AtoZ\\anaconda3 ipykernel --update-deps --force-reinstall'"
     ]
    }
   ],
   "source": [
    "#Loading dataset\n",
    "data = pd.read_csv(\"spam.csv\",encoding='latin-1')\n",
    "data.head()"
   ]
  },
  {
   "cell_type": "code",
   "execution_count": null,
   "metadata": {
    "collapsed": false
   },
   "outputs": [],
   "source": [
    "#Droping unwanted columns\n",
    "data = data.drop(['Unnamed: 2','Unnamed: 3','Unnamed: 4'],axis=1)\n",
    "\n",
    "#Naming the columns\n",
    "data = data.rename(columns = {'v1':'label','v2':'message'})\n"
   ]
  },
  {
   "cell_type": "code",
   "execution_count": null,
   "metadata": {
    "collapsed": false
   },
   "outputs": [],
   "source": [
    "data.describe()"
   ]
  },
  {
   "cell_type": "code",
   "execution_count": null,
   "metadata": {
    "collapsed": false
   },
   "outputs": [],
   "source": [
    "data.groupby('label').describe()"
   ]
  },
  {
   "cell_type": "code",
   "execution_count": null,
   "metadata": {
    "collapsed": false
   },
   "outputs": [],
   "source": [
    "#Calculating the lenght of all the messages\n",
    "data['lenght']=data['message'].apply(len)\n",
    "data.head()\n"
   ]
  },
  {
   "cell_type": "code",
   "execution_count": null,
   "metadata": {
    "collapsed": false
   },
   "outputs": [],
   "source": [
    "data.describe()"
   ]
  },
  {
   "cell_type": "code",
   "execution_count": null,
   "metadata": {
    "collapsed": false
   },
   "outputs": [],
   "source": [
    "%matplotlib inline\n",
    "\n",
    "#Plotting the lenght of ham and spam messages\n",
    "data.hist(by='label',column='lenght',bins=30,figsize=[15,5]) "
   ]
  },
  {
   "cell_type": "markdown",
   "metadata": {},
   "source": [
    "<p>From this plot we can say that spam messages are much more long than ham messages on an average</p>\n"
   ]
  },
  {
   "cell_type": "code",
   "execution_count": null,
   "metadata": {
    "collapsed": false
   },
   "outputs": [],
   "source": [
    "#Converting our labels to numeric labels\n",
    "# ham = 0 and spam = 1\n",
    "data['label_num']=data.label.map({'ham':0,'spam':1})\n",
    "data.head()"
   ]
  },
  {
   "cell_type": "code",
   "execution_count": null,
   "metadata": {
    "collapsed": false
   },
   "outputs": [],
   "source": [
    "#loading our features and target to train\n",
    "x = data.message\n",
    "y = data.label_num\n"
   ]
  },
  {
   "cell_type": "code",
   "execution_count": null,
   "metadata": {
    "collapsed": false
   },
   "outputs": [],
   "source": [
    "#Now we have 5572 labels for 5572 features\n",
    "#spliting data into 75% test and 25% into train which is by default\n",
    "x_train, x_test, y_train, y_test = train_test_split(x, y, random_state=11)\n"
   ]
  },
  {
   "cell_type": "code",
   "execution_count": null,
   "metadata": {
    "collapsed": false
   },
   "outputs": [],
   "source": [
    "vect = CountVectorizer()\n",
    "#converting features into numeric vector\n",
    "X_train = vect.fit_transform(x_train)\n",
    "#converting target into numeric vector\n",
    "X_test = vect.transform(x_test)\n",
    "\n",
    "\n",
    "\n"
   ]
  },
  {
   "cell_type": "code",
   "execution_count": null,
   "metadata": {
    "collapsed": false
   },
   "outputs": [],
   "source": [
    "#Loading all classifier\n",
    "svc = SVC(kernel = 'linear')\n",
    "mnb = MultinomialNB(alpha =0.2)\n",
    "gnb  = GaussianNB()\n",
    "lr = LogisticRegression(solver='liblinear', penalty='l1')\n",
    "rfc = RandomForestClassifier(n_estimators=100,random_state=11)\n",
    "abc = AdaBoostClassifier(n_estimators =100,random_state=11)"
   ]
  },
  {
   "cell_type": "code",
   "execution_count": null,
   "metadata": {
    "collapsed": true
   },
   "outputs": [],
   "source": [
    "#defining functions for training and testing data\n",
    "\n",
    "def training(clf,x_train,Y_train):\n",
    "    clf.fit(x_train,Y_train)\n",
    "    \n",
    "#function for predicting labels\n",
    "\n",
    "def predict(clf,X_test):\n",
    "    return clf.predict(X_test)"
   ]
  },
  {
   "cell_type": "code",
   "execution_count": null,
   "metadata": {
    "collapsed": true
   },
   "outputs": [],
   "source": [
    "#defining a dictionary of classifier\n",
    "classifier={'SVM': svc , 'MultinomialNB': mnb,'GaussianNB': gnb,'logistic': lr,'RandomForest': rfc,'Adaboost': abc}"
   ]
  },
  {
   "cell_type": "code",
   "execution_count": null,
   "metadata": {
    "collapsed": false
   },
   "outputs": [],
   "source": [
    "#predict and storing score of each classifier\n",
    "score = []\n",
    "for n,c in classifier.items():\n",
    "    training(c,X_train.toarray(),y_train)\n",
    "    pred = predict(c,X_test.toarray())\n",
    "    score.append((n,[accuracy_score(y_test,pred,normalize=True)]))\n",
    "    "
   ]
  },
  {
   "cell_type": "code",
   "execution_count": null,
   "metadata": {
    "collapsed": false
   },
   "outputs": [],
   "source": [
    "score_df=pd.DataFrame.from_items(score,orient='index',columns=['scores'])\n",
    "#Adding accuracy column\n",
    "score_df['Accuracy (%)']=score_df['scores']*100\n",
    "score_df"
   ]
  },
  {
   "cell_type": "markdown",
   "metadata": {},
   "source": [
    "<p>We can see svm has the best accuracy of 0.989 followed by multinomial naiye bayes which have accuracy of 0.988</p>\n",
    "\n",
    "<p>Also notice that Gaussian NB work very poorly</p>"
   ]
  },
  {
   "cell_type": "code",
   "execution_count": null,
   "metadata": {
    "collapsed": true
   },
   "outputs": [],
   "source": [
    "##Find out time taken by each classifier\n",
    "##remove stopwords and train again\n",
    "##use GridSearchCV to tune algorithms"
   ]
  },
  {
   "cell_type": "code",
   "execution_count": null,
   "metadata": {},
   "outputs": [],
   "source": [
    " #Implementing K-Nearest Neighbors (KNN)\n",
    "from sklearn.neighbors import KNeighborsClassifier\n",
    "\n",
    "# Initialize KNN with k=5 (can be tuned)\n",
    "knn = KNeighborsClassifier(n_neighbors=5)\n",
    "\n",
    "# Train the model\n",
    "knn.fit(X_train, y_train)\n",
    "\n",
    "# Predict on test set\n",
    "y_pred_knn = knn.predict(X_test)\n",
    "\n",
    "# Evaluate model\n",
    "knn_accuracy = accuracy_score(y_test, y_pred_knn)\n",
    "print(f\"KNN Accuracy: {knn_accuracy:.4f}\")"
   ]
  },
  {
   "cell_type": "code",
   "execution_count": null,
   "metadata": {},
   "outputs": [],
   "source": [
    "#conda create --name tf_env python=3.10\n"
   ]
  },
  {
   "cell_type": "code",
   "execution_count": null,
   "metadata": {},
   "outputs": [],
   "source": [
    "#%pip install tensorflow\n",
    "#import tensorflow as tf\n",
    "\n",
    "%pip show tensorflow\n",
    "\n",
    "from tensorflow.keras.models import Sequential\n",
    "from tensorflow.keras.layers import Embedding, SimpleRNN, LSTM, Dense, SpatialDropout1D\n",
    "from tensorflow.keras.preprocessing.text import Tokenizer\n",
    "from tensorflow.keras.preprocessing.sequence import pad_sequences\n",
    "\n",
    "# Tokenization and Sequence Padding\n",
    "max_words = 5000  # Vocabulary size\n",
    "max_len = 100  # Max sequence length\n",
    "\n",
    "tokenizer = Tokenizer(num_words=max_words)\n",
    "tokenizer.fit_on_texts(X_train)\n",
    "X_train_seq = tokenizer.texts_to_sequences(X_train)\n",
    "X_test_seq = tokenizer.texts_to_sequences(X_test)\n",
    "\n",
    "X_train_pad = pad_sequences(X_train_seq, maxlen=max_len)\n",
    "X_test_pad = pad_sequences(X_test_seq, maxlen=max_len)\n",
    "\n",
    "# Convert labels to numerical format\n",
    "y_train_bin = (y_train == 'spam').astype(int)\n",
    "y_test_bin = (y_test == 'spam').astype(int)\n",
    "\n",
    "# Build RNN Model\n",
    "rnn_model = Sequential([\n",
    "    Embedding(max_words, 32, input_length=max_len),\n",
    "    SimpleRNN(32, return_sequences=True),\n",
    "    SimpleRNN(16),\n",
    "    Dense(1, activation='sigmoid')\n",
    "])\n",
    "\n",
    "rnn_model.compile(loss='binary_crossentropy', optimizer='adam', metrics=['accuracy'])\n",
    "rnn_model.fit(X_train_pad, y_train_bin, epochs=5, batch_size=32, validation_data=(X_test_pad, y_test_bin))\n",
    "\n",
    "# Evaluate RNN Model\n",
    "rnn_accuracy = rnn_model.evaluate(X_test_pad, y_test_bin, verbose=0)[1]\n",
    "print(f\"RNN Accuracy: {rnn_accuracy:.4f}\")\n",
    "\n",
    "# Build LSTM Model\n",
    "lstm_model = Sequential([\n",
    "    Embedding(max_words, 64, input_length=max_len),\n",
    "    SpatialDropout1D(0.3),\n",
    "    LSTM(64, dropout=0.3, recurrent_dropout=0.3),\n",
    "    Dense(1, activation='sigmoid')\n",
    "])\n",
    "\n",
    "lstm_model.compile(loss='binary_crossentropy', optimizer='adam', metrics=['accuracy'])\n",
    "lstm_model.fit(X_train_pad, y_train_bin, epochs=5, batch_size=32, validation_data=(X_test_pad, y_test_bin))\n",
    "\n",
    "# Evaluate LSTM Model\n",
    "lstm_accuracy = lstm_model.evaluate(X_test_pad, y_test_bin, verbose=0)[1]\n",
    "print(f\"LSTM Accuracy: {lstm_accuracy:.4f}\")\n"
   ]
  }
 ],
 "metadata": {
  "kernelspec": {
   "display_name": "Python 3",
   "language": "python",
   "name": "python3"
  },
  "language_info": {
   "codemirror_mode": {
    "name": "ipython",
    "version": 3
   },
   "file_extension": ".py",
   "mimetype": "text/x-python",
   "name": "python",
   "nbconvert_exporter": "python",
   "pygments_lexer": "ipython3",
   "version": "3.12.4"
  }
 },
 "nbformat": 4,
 "nbformat_minor": 2
}
